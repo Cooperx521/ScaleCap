{
 "cells": [
  {
   "cell_type": "code",
   "execution_count": null,
   "metadata": {},
   "outputs": [],
   "source": [
    "from transformers import Qwen2_5_VLForConditionalGeneration, AutoProcessor\n",
    "\n",
    "# default: Load the model on the available device(s)\n",
    "vlm_model = Qwen2_5_VLForConditionalGeneration.from_pretrained(\n",
    "    \"/path/models--Qwen--Qwen2.5-VL-3B-Instruct\", torch_dtype=\"auto\", device_map=\"auto\"\n",
    ")\n"
   ]
  },
  {
   "cell_type": "code",
   "execution_count": null,
   "metadata": {},
   "outputs": [],
   "source": [
    "\n",
    "total_params = sum(p.numel() for p in vlm_model.parameters())\n",
    "\n",
    "total_params_million = total_params / 1e6\n",
    "total_params_billion = total_params / 1e9\n",
    "\n",
    "print(f\"total_params: {total_params}\")\n",
    "print(f\"total_params_billion: {total_params_billion:.2f} B\")"
   ]
  },
  {
   "cell_type": "code",
   "execution_count": null,
   "metadata": {},
   "outputs": [],
   "source": [
    "from transformers import AutoModelForCausalLM, AutoTokenizer\n",
    "\n",
    "model_name = \"/path/models--Qwen--Qwen2.5-3B-Instruct\"\n",
    "\n",
    "llm_model = AutoModelForCausalLM.from_pretrained(\n",
    "    model_name,\n",
    "    torch_dtype=\"auto\",\n",
    "    device_map=\"auto\"\n",
    ")\n",
    "\n",
    "total_params = sum(p.numel() for p in llm_model.parameters())\n",
    "\n",
    "\n",
    "total_params_million = total_params / 1e6\n",
    "total_params_billion = total_params / 1e9\n",
    "\n",
    "print(f\"total_params: {total_params}\")\n",
    "print(f\"total_params_billion: {total_params_billion:.2f} B\")"
   ]
  },
  {
   "cell_type": "code",
   "execution_count": null,
   "metadata": {},
   "outputs": [],
   "source": [
    "vlm_model.model = llm_model.model\n"
   ]
  },
  {
   "cell_type": "code",
   "execution_count": null,
   "metadata": {},
   "outputs": [],
   "source": [
    "from transformers.models.qwen2_5_vl.modeling_qwen2_5_vl import Qwen2_5_VLPatchMerger\n",
    "new_merger = Qwen2_5_VLPatchMerger(dim=2048, context_dim=1280, spatial_merge_size=2)"
   ]
  },
  {
   "cell_type": "code",
   "execution_count": null,
   "metadata": {},
   "outputs": [],
   "source": [
    "\n",
    "vlm_model.visual.merger = new_merger\n"
   ]
  },
  {
   "cell_type": "code",
   "execution_count": 12,
   "metadata": {},
   "outputs": [],
   "source": [
    "\n",
    "save_dir = \"/path/Qwen2.5_VL_3B_rdm_merger_ori_llm\"\n",
    "\n",
    "del vlm_model.lm_head\n",
    "\n",
    "vlm_model.save_pretrained(save_dir, safe_serialization=True)\n",
    "\n"
   ]
  }
 ],
 "metadata": {
  "kernelspec": {
   "display_name": "Python 3",
   "language": "python",
   "name": "python3"
  },
  "language_info": {
   "codemirror_mode": {
    "name": "ipython",
    "version": 3
   },
   "file_extension": ".py",
   "mimetype": "text/x-python",
   "name": "python",
   "nbconvert_exporter": "python",
   "pygments_lexer": "ipython3",
   "version": "3.10.16"
  }
 },
 "nbformat": 4,
 "nbformat_minor": 2
}
